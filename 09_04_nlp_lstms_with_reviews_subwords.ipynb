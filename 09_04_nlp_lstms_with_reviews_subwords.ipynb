{
  "nbformat": 4,
  "nbformat_minor": 0,
  "metadata": {
    "colab": {
      "name": "09_04_nlp_lstms_with_reviews_subwords.ipynb",
      "provenance": [],
      "collapsed_sections": []
    },
    "kernelspec": {
      "name": "python3",
      "display_name": "Python 3"
    },
    "accelerator": "GPU"
  },
  "cells": [
    {
      "cell_type": "markdown",
      "metadata": {
        "id": "0tiEHfjNtduS"
      },
      "source": [
        "## Using LSTMs with the subwords dataset\n",
        "\n",
        "- compare the results of using a model with an Embedding layer and then adding bidirectional LSTM layers.\n",
        "\n",
        "- work with the dataset of subwords for the combined Yelp and Amazon reviews.\n",
        "\n",
        "- use our models to predict the sentiment of new reviews."
      ]
    },
    {
      "cell_type": "code",
      "metadata": {
        "id": "Ki2qG2tFt5B1"
      },
      "source": [
        "import tensorflow as tf \n",
        "from tensorflow.keras.preprocessing.sequence import pad_sequences\n",
        "from tensorflow.keras.preprocessing.text import Tokenizer"
      ],
      "execution_count": null,
      "outputs": []
    },
    {
      "cell_type": "markdown",
      "metadata": {
        "id": "sv79OCCbuWmb"
      },
      "source": [
        "## Get the dataset\n",
        "\n",
        "Start by getting the dataset containing Amazon and Yelp reviews, with their related sentiment (1 for positive, 0 for negative). This dataset was originally extracted from [here](https://www.kaggle.com/marklvl/sentiment-labelled-sentences-data-set).\n"
      ]
    },
    {
      "cell_type": "code",
      "metadata": {
        "id": "p1tfJqmFuSr0",
        "outputId": "953e6b5b-437f-458e-ceac-4b79ac0f912f",
        "colab": {
          "base_uri": "https://localhost:8080/",
          "height": 326
        }
      },
      "source": [
        "!wget --no-check-certificate \\\n",
        "    https://drive.google.com/uc?id=13ySLC_ue6Umt9RJYSeM2t-V0kCv-4C-P -O /tmp/sentiment.csv"
      ],
      "execution_count": null,
      "outputs": [
        {
          "output_type": "stream",
          "text": [
            "--2020-10-17 15:23:26--  https://drive.google.com/uc?id=13ySLC_ue6Umt9RJYSeM2t-V0kCv-4C-P\n",
            "Resolving drive.google.com (drive.google.com)... 74.125.20.139, 74.125.20.102, 74.125.20.138, ...\n",
            "Connecting to drive.google.com (drive.google.com)|74.125.20.139|:443... connected.\n",
            "HTTP request sent, awaiting response... 302 Moved Temporarily\n",
            "Location: https://doc-08-ak-docs.googleusercontent.com/docs/securesc/ha0ro937gcuc7l7deffksulhg5h7mbp1/qr1vljhec6352h9eig8aplpddfleglsq/1602948150000/11118900490791463723/*/13ySLC_ue6Umt9RJYSeM2t-V0kCv-4C-P [following]\n",
            "Warning: wildcards not supported in HTTP.\n",
            "--2020-10-17 15:23:26--  https://doc-08-ak-docs.googleusercontent.com/docs/securesc/ha0ro937gcuc7l7deffksulhg5h7mbp1/qr1vljhec6352h9eig8aplpddfleglsq/1602948150000/11118900490791463723/*/13ySLC_ue6Umt9RJYSeM2t-V0kCv-4C-P\n",
            "Resolving doc-08-ak-docs.googleusercontent.com (doc-08-ak-docs.googleusercontent.com)... 74.125.195.132, 2607:f8b0:400e:c09::84\n",
            "Connecting to doc-08-ak-docs.googleusercontent.com (doc-08-ak-docs.googleusercontent.com)|74.125.195.132|:443... connected.\n",
            "HTTP request sent, awaiting response... 200 OK\n",
            "Length: 127831 (125K) [text/csv]\n",
            "Saving to: ‘/tmp/sentiment.csv’\n",
            "\n",
            "/tmp/sentiment.csv  100%[===================>] 124.83K  --.-KB/s    in 0.001s  \n",
            "\n",
            "2020-10-17 15:23:26 (90.7 MB/s) - ‘/tmp/sentiment.csv’ saved [127831/127831]\n",
            "\n"
          ],
          "name": "stdout"
        }
      ]
    },
    {
      "cell_type": "code",
      "metadata": {
        "id": "ld3tRbxyucuF",
        "outputId": "33991409-1c50-4237-f817-ee98a14a044b",
        "colab": {
          "base_uri": "https://localhost:8080/",
          "height": 204
        }
      },
      "source": [
        "import pandas as pd \n",
        "dataset = pd.read_csv('/tmp/sentiment.csv')\n",
        "\n",
        "dataset.head()"
      ],
      "execution_count": null,
      "outputs": [
        {
          "output_type": "execute_result",
          "data": {
            "text/html": [
              "<div>\n",
              "<style scoped>\n",
              "    .dataframe tbody tr th:only-of-type {\n",
              "        vertical-align: middle;\n",
              "    }\n",
              "\n",
              "    .dataframe tbody tr th {\n",
              "        vertical-align: top;\n",
              "    }\n",
              "\n",
              "    .dataframe thead th {\n",
              "        text-align: right;\n",
              "    }\n",
              "</style>\n",
              "<table border=\"1\" class=\"dataframe\">\n",
              "  <thead>\n",
              "    <tr style=\"text-align: right;\">\n",
              "      <th></th>\n",
              "      <th>Unnamed: 0</th>\n",
              "      <th>text</th>\n",
              "      <th>sentiment</th>\n",
              "    </tr>\n",
              "  </thead>\n",
              "  <tbody>\n",
              "    <tr>\n",
              "      <th>0</th>\n",
              "      <td>0</td>\n",
              "      <td>So there is no way for me to plug it in here i...</td>\n",
              "      <td>0</td>\n",
              "    </tr>\n",
              "    <tr>\n",
              "      <th>1</th>\n",
              "      <td>1</td>\n",
              "      <td>Good case Excellent value.</td>\n",
              "      <td>1</td>\n",
              "    </tr>\n",
              "    <tr>\n",
              "      <th>2</th>\n",
              "      <td>2</td>\n",
              "      <td>Great for the jawbone.</td>\n",
              "      <td>1</td>\n",
              "    </tr>\n",
              "    <tr>\n",
              "      <th>3</th>\n",
              "      <td>3</td>\n",
              "      <td>Tied to charger for conversations lasting more...</td>\n",
              "      <td>0</td>\n",
              "    </tr>\n",
              "    <tr>\n",
              "      <th>4</th>\n",
              "      <td>4</td>\n",
              "      <td>The mic is great.</td>\n",
              "      <td>1</td>\n",
              "    </tr>\n",
              "  </tbody>\n",
              "</table>\n",
              "</div>"
            ],
            "text/plain": [
              "   Unnamed: 0                                               text  sentiment\n",
              "0           0  So there is no way for me to plug it in here i...          0\n",
              "1           1                         Good case Excellent value.          1\n",
              "2           2                             Great for the jawbone.          1\n",
              "3           3  Tied to charger for conversations lasting more...          0\n",
              "4           4                                  The mic is great.          1"
            ]
          },
          "metadata": {
            "tags": []
          },
          "execution_count": 3
        }
      ]
    },
    {
      "cell_type": "code",
      "metadata": {
        "id": "PCbhLrEmuvOn"
      },
      "source": [
        "# Extract sentences and labels \n",
        "sentences = dataset['text'].tolist()\n",
        "labels = dataset['sentiment'].tolist()"
      ],
      "execution_count": null,
      "outputs": []
    },
    {
      "cell_type": "code",
      "metadata": {
        "id": "bevO5d1qxA9-",
        "outputId": "a23e4253-b594-4cfa-ad8d-267974a945fe",
        "colab": {
          "base_uri": "https://localhost:8080/",
          "height": 52
        }
      },
      "source": [
        "print(len(sentences))\n",
        "sentences[100]"
      ],
      "execution_count": null,
      "outputs": [
        {
          "output_type": "stream",
          "text": [
            "1992\n"
          ],
          "name": "stdout"
        },
        {
          "output_type": "execute_result",
          "data": {
            "application/vnd.google.colaboratory.intrinsic+json": {
              "type": "string"
            },
            "text/plain": [
              "'Integrated seamlessly with the Motorola RAZR phone.'"
            ]
          },
          "metadata": {
            "tags": []
          },
          "execution_count": 33
        }
      ]
    },
    {
      "cell_type": "code",
      "metadata": {
        "id": "FLeTu_yuu6Kg",
        "outputId": "4337dba9-0702-4429-b322-377a7df6feb6",
        "colab": {
          "base_uri": "https://localhost:8080/",
          "height": 153
        }
      },
      "source": [
        "# Print some example sentences and labels\n",
        "for x in range(2):\n",
        "  print(sentences[x])\n",
        "  print(labels[x])\n",
        "  print(\"\\n\")"
      ],
      "execution_count": null,
      "outputs": [
        {
          "output_type": "stream",
          "text": [
            "So there is no way for me to plug it in here in the US unless I go by a converter.\n",
            "0\n",
            "\n",
            "\n",
            "Good case Excellent value.\n",
            "1\n",
            "\n",
            "\n"
          ],
          "name": "stdout"
        }
      ]
    },
    {
      "cell_type": "markdown",
      "metadata": {
        "id": "0vAZPfT1vCUZ"
      },
      "source": [
        "## Create a subwords dataset\n",
        "\n",
        "We will use the Amazon and Yelp reviews dataset with tensorflow_datasets's SubwordTextEncoder functionality. \n",
        "\n",
        "SubwordTextEncoder.build_from_corpus() will create a tokenizer for us. You could also use this functionality to get subwords from a much larger corpus of text as well, but we'll just use our existing dataset here.\n",
        "\n",
        "We'll create a subword vocab_size of only the 1,000 most common subwords, as well as cutting off each subword to be at most 5 characters.\n",
        "\n",
        "Check out the related documentation for the the subword text encoder [here](https://www.tensorflow.org/datasets/api_docs/python/tfds/features/text/SubwordTextEncoder#build_from_corpus).\n",
        "\n",
        "vocab_size : int, approximate size of the vocabulary to create.\n",
        "max_subword_length : maximum length of a subword. Note that memory and compute scale quadratically in the length of the longest token.\n",
        "\n"
      ]
    },
    {
      "cell_type": "code",
      "metadata": {
        "id": "VD4MjEhGu78L",
        "outputId": "e9a46815-f5d2-4d12-d0cb-d8f5e9045582",
        "colab": {
          "base_uri": "https://localhost:8080/",
          "height": 34
        }
      },
      "source": [
        "import tensorflow_datasets as tfds \n",
        "vocab_size = 1000\n",
        "tokenizer = tfds.features.text.SubwordTextEncoder.build_from_corpus(sentences,vocab_size,max_subword_length=5)\n",
        "\n",
        "# How big is the vocab size?\n",
        "print(\"Vocab size is \", tokenizer.vocab_size)\n"
      ],
      "execution_count": null,
      "outputs": [
        {
          "output_type": "stream",
          "text": [
            "Vocab size is  999\n"
          ],
          "name": "stdout"
        }
      ]
    },
    {
      "cell_type": "code",
      "metadata": {
        "id": "NLE8plJHviX9",
        "outputId": "8afe022a-72df-4a45-ba24-2c1c1ff19e29",
        "colab": {
          "base_uri": "https://localhost:8080/",
          "height": 54
        }
      },
      "source": [
        "print(tokenizer.subwords[0:100])"
      ],
      "execution_count": null,
      "outputs": [
        {
          "output_type": "stream",
          "text": [
            "['the_', 'and_', 's_', 'I_', 'a_', 'to_', 'is_', 't_', 'was_', 'y_', 'd_', 'e_', 'The_', 'it_', 'of_', 'this_', 'for_', 'not_', 'in_', 'r_', 'my_', 'ed_', 'with_', 'ly_', 'phone', 'ing_', 'on_', 'very_', 're', 'that_', 'have_', 'place', 'ce_', 'it', 'great', 'good_', 'l_', 'n_', 'you_', 'had_', 'are_', 'so_', 'This_', 'h_', 'but_', 'be_', 've_', 'at_', 'servi', 'food_', 'ce', 'ne', 'er', 'It_', 'li', 'ma', 'm_', 'ar', 'nt', 'es', 'as_', 'ta', 'er_', 'de', 'like_', 'all_', 'k_', 'es_', 'se', 'sa', 'le', 'me', 'vi', 'o_', 'to', 'fa', 'ed', 'pa', 'con', 'one_', 'is', 'ri', 'on', 'et', 'ke', 'ct', 'were_', 'ti', 'te', 'ic', 'pe', 'would', 'we', 'me_', 'la', 'ha', 'di', 've', 'un', 'thing']\n"
          ],
          "name": "stdout"
        }
      ]
    },
    {
      "cell_type": "code",
      "metadata": {
        "id": "yk0fTMjSzOn3",
        "outputId": "340806f6-4c0b-4761-9938-00e23d5f3042",
        "colab": {
          "base_uri": "https://localhost:8080/",
          "height": 306
        }
      },
      "source": [
        "## check encoding and decoding for a sample sentence\n",
        "sample_sentence=tokenizer.encode(\"good badwords badxyz\")\n",
        "print(sample_sentence)\n",
        "print(\"\\n\")\n",
        "decode_sample_sentence= tokenizer.decode(sample_sentence)\n",
        "print(decode_sample_sentence)\n",
        "print(\"\\n\")\n",
        "for i,j in zip(sample_sentence,decode_sample_sentence):\n",
        "  print(i,\"--\",j)"
      ],
      "execution_count": null,
      "outputs": [
        {
          "output_type": "stream",
          "text": [
            "[36, 103, 843, 630, 239, 3, 103, 843, 863, 864, 865]\n",
            "\n",
            "\n",
            "good badwords badxyz\n",
            "\n",
            "\n",
            "36 -- g\n",
            "103 -- o\n",
            "843 -- o\n",
            "630 -- d\n",
            "239 --  \n",
            "3 -- b\n",
            "103 -- a\n",
            "843 -- d\n",
            "863 -- w\n",
            "864 -- o\n",
            "865 -- r\n"
          ],
          "name": "stdout"
        }
      ]
    },
    {
      "cell_type": "code",
      "metadata": {
        "id": "PoLzkTCnvmYc",
        "outputId": "c188a6df-e27d-4440-bf94-25a46f0a507c",
        "colab": {
          "base_uri": "https://localhost:8080/",
          "height": 51
        }
      },
      "source": [
        "# Check that the tokenizer works appropriately\n",
        "num = 5\n",
        "print(sentences[num])\n",
        "encoded = tokenizer.encode(sentences[num])\n",
        "print(encoded)"
      ],
      "execution_count": null,
      "outputs": [
        {
          "output_type": "stream",
          "text": [
            "I have to jiggle the plug to get it to line up right to get decent volume.\n",
            "[4, 31, 6, 849, 162, 450, 12, 1, 600, 438, 775, 6, 175, 14, 6, 55, 213, 159, 474, 775, 6, 175, 614, 380, 295, 148, 72, 789]\n"
          ],
          "name": "stdout"
        }
      ]
    },
    {
      "cell_type": "code",
      "metadata": {
        "id": "ADsCqM75v7uA",
        "outputId": "1654dfab-5300-4c8b-884a-8b4675942d3c",
        "colab": {
          "base_uri": "https://localhost:8080/",
          "height": 493
        }
      },
      "source": [
        "# Separately print out each subword, decoded\n",
        "for i in encoded:\n",
        "  print(i,\"---->\",tokenizer.decode([i]))"
      ],
      "execution_count": null,
      "outputs": [
        {
          "output_type": "stream",
          "text": [
            "4 ----> I \n",
            "31 ----> have \n",
            "6 ----> to \n",
            "849 ----> j\n",
            "162 ----> ig\n",
            "450 ----> gl\n",
            "12 ----> e \n",
            "1 ----> the \n",
            "600 ----> pl\n",
            "438 ----> ug\n",
            "775 ---->  \n",
            "6 ----> to \n",
            "175 ----> get \n",
            "14 ----> it \n",
            "6 ----> to \n",
            "55 ----> li\n",
            "213 ----> ne \n",
            "159 ----> up \n",
            "474 ----> right\n",
            "775 ---->  \n",
            "6 ----> to \n",
            "175 ----> get \n",
            "614 ----> dec\n",
            "380 ----> ent \n",
            "295 ----> vo\n",
            "148 ----> lu\n",
            "72 ----> me\n",
            "789 ----> .\n"
          ],
          "name": "stdout"
        }
      ]
    },
    {
      "cell_type": "markdown",
      "metadata": {
        "id": "6e8nR0F8wUfk"
      },
      "source": [
        "## Replace sentence data with encoded subwords\n",
        "Now, we'll create the sequences to be used for training by actually encoding each of the individual sentences. This is equivalent to text_to_sequences with the Tokenizer we used in earlier exercises."
      ]
    },
    {
      "cell_type": "code",
      "metadata": {
        "id": "pf8hXYyJwBa9"
      },
      "source": [
        "for i ,sentence in enumerate(sentences):\n",
        "  sentences[i] = tokenizer.encode(sentence)"
      ],
      "execution_count": null,
      "outputs": []
    },
    {
      "cell_type": "code",
      "metadata": {
        "id": "mVLc5g4LxTg5",
        "outputId": "d2c8f900-3676-4530-f08f-b85ec1f594d3",
        "colab": {
          "base_uri": "https://localhost:8080/",
          "height": 51
        }
      },
      "source": [
        "# Check the sentences are appropriately replaced\n",
        "print(sentences[50])\n",
        "print(tokenizer.decode(sentences[50]))"
      ],
      "execution_count": null,
      "outputs": [
        {
          "output_type": "stream",
          "text": [
            "[385, 140, 637, 775, 403, 44, 2, 197, 60, 853, 782, 8, 389, 775, 27, 65, 14, 328, 503, 789]\n",
            "Not loud enough and doesn't turn on like it should.\n"
          ],
          "name": "stdout"
        }
      ]
    },
    {
      "cell_type": "markdown",
      "metadata": {
        "id": "cllYX7pN1iy8"
      },
      "source": [
        "## Final pre-processing\n",
        "Before training, we still need to pad the sequences, as well as split into training and test sets.\n",
        "\n"
      ]
    },
    {
      "cell_type": "code",
      "metadata": {
        "id": "j8s8kThMxXUM"
      },
      "source": [
        "import numpy as np\n",
        "\n",
        "max_length =50\n",
        "trunc_type = 'post'\n",
        "padding_type ='post'\n",
        "\n",
        "# pad all sequences \n",
        "sequences_padded = pad_sequences(sentences, maxlen=max_length, padding=padding_type, truncating=trunc_type)\n",
        "# Separate out the sentences and labels into training and test sets\n",
        "training_size = int(len(sentences) * 0.8)\n",
        "\n",
        "training_sequences = sequences_padded[0:training_size]\n",
        "testing_sequences = sequences_padded[training_size:]\n",
        "\n",
        "training_labels = labels[0:training_size]\n",
        "testing_labels = labels[training_size:]\n",
        "\n",
        "# Make labels into numpy arrays for use with the network later\n",
        "training_labels_final = np.array(training_labels)\n",
        "testing_labels_final = np.array(testing_labels)"
      ],
      "execution_count": null,
      "outputs": []
    },
    {
      "cell_type": "code",
      "metadata": {
        "id": "jO7jokObT-NI"
      },
      "source": [
        "'''\n",
        "from sklearn.model_selection import train_test_split\n",
        "# split into train test sets\n",
        "X_train, X_test, y_train, y_test = train_test_split(sequences_padded, labels, test_size=0.20)\n",
        "\n",
        "#print(X_train.shape, X_test.shape, y_train.shape, y_test.shape)\n",
        "training_sequences = X_train\n",
        "testing_sequences = X_test\n",
        "training_labels_final = np.array(y_train)\n",
        "testing_labels_final = np.array(y_test)\n",
        "'''"
      ],
      "execution_count": null,
      "outputs": []
    },
    {
      "cell_type": "markdown",
      "metadata": {
        "id": "pPnqR3NZ31hq"
      },
      "source": [
        "## Create the model using an Embedding\n",
        "\n",
        "Keras offers an Embedding layer that can be used for neural networks on text data.\n",
        "\n",
        "It requires that the input data be integer encoded, so that each word is represented by a unique integer. This data preparation step can be performed using the Tokenizer API also provided with Keras.\n",
        "\n",
        "The Embedding layer is defined as the first hidden layer of a network. It must specify 3 arguments:\n",
        "\n",
        "It must specify 3 arguments:\n",
        "\n",
        "- input_dim: This is the size of the vocabulary in the text data. For example, if your data is integer encoded to values between 0-10, then the size of the vocabulary would be 11 words.\n",
        "- output_dim: This is the size of the vector space in which words will be embedded. It defines the size of the output vectors from this layer for each word. For example, it could be 32 or 100 or even larger. Test different values for your problem.\n",
        "- input_length: This is the length of input sequences, as you would define for any input layer of a Keras model. For example, if all of your input documents are comprised of 1000 words, this would be 1000."
      ]
    },
    {
      "cell_type": "code",
      "metadata": {
        "id": "_Khz3WVu2yZ5",
        "outputId": "54dc0a5c-07f8-477e-89cc-0e10ccc5620a",
        "colab": {
          "base_uri": "https://localhost:8080/",
          "height": 289
        }
      },
      "source": [
        "embedding_dim = 16\n",
        "\n",
        "model = tf.keras.Sequential([\n",
        "                tf.keras.layers.Embedding(vocab_size,embedding_dim,input_length=max_length),\n",
        "                tf.keras.layers.GlobalAveragePooling1D(),\n",
        "                tf.keras.layers.Dense(6, activation='relu'),\n",
        "                tf.keras.layers.Dense(1, activation='sigmoid')\n",
        "])\n",
        "\n",
        "model.summary()"
      ],
      "execution_count": null,
      "outputs": [
        {
          "output_type": "stream",
          "text": [
            "Model: \"sequential_3\"\n",
            "_________________________________________________________________\n",
            "Layer (type)                 Output Shape              Param #   \n",
            "=================================================================\n",
            "embedding_3 (Embedding)      (None, 50, 16)            16000     \n",
            "_________________________________________________________________\n",
            "global_average_pooling1d_1 ( (None, 16)                0         \n",
            "_________________________________________________________________\n",
            "dense_6 (Dense)              (None, 6)                 102       \n",
            "_________________________________________________________________\n",
            "dense_7 (Dense)              (None, 1)                 7         \n",
            "=================================================================\n",
            "Total params: 16,109\n",
            "Trainable params: 16,109\n",
            "Non-trainable params: 0\n",
            "_________________________________________________________________\n"
          ],
          "name": "stdout"
        }
      ]
    },
    {
      "cell_type": "markdown",
      "metadata": {
        "id": "6ypKe7G6-893"
      },
      "source": [
        "## Train the model"
      ]
    },
    {
      "cell_type": "code",
      "metadata": {
        "id": "a2ggUjf7--4O",
        "outputId": "fcf639b9-f88e-4d43-b579-a0b5a7c0a29a",
        "colab": {
          "base_uri": "https://localhost:8080/",
          "height": 1000
        }
      },
      "source": [
        "num_epochs = 30\n",
        "model.compile(loss='binary_crossentropy',optimizer='adam',metrics=['accuracy'])\n",
        "history = model.fit(training_sequences,training_labels_final,epochs=num_epochs,validation_data=(testing_sequences, testing_labels_final))"
      ],
      "execution_count": null,
      "outputs": [
        {
          "output_type": "stream",
          "text": [
            "Epoch 1/30\n",
            "50/50 [==============================] - 0s 5ms/step - loss: 0.6926 - accuracy: 0.5217 - val_loss: 0.6911 - val_accuracy: 0.6341\n",
            "Epoch 2/30\n",
            "50/50 [==============================] - 0s 4ms/step - loss: 0.6886 - accuracy: 0.6271 - val_loss: 0.6864 - val_accuracy: 0.6942\n",
            "Epoch 3/30\n",
            "50/50 [==============================] - 0s 3ms/step - loss: 0.6814 - accuracy: 0.7119 - val_loss: 0.6794 - val_accuracy: 0.6792\n",
            "Epoch 4/30\n",
            "50/50 [==============================] - 0s 3ms/step - loss: 0.6701 - accuracy: 0.7175 - val_loss: 0.6683 - val_accuracy: 0.6942\n",
            "Epoch 5/30\n",
            "50/50 [==============================] - 0s 4ms/step - loss: 0.6529 - accuracy: 0.7596 - val_loss: 0.6514 - val_accuracy: 0.7393\n",
            "Epoch 6/30\n",
            "50/50 [==============================] - 0s 3ms/step - loss: 0.6269 - accuracy: 0.7790 - val_loss: 0.6299 - val_accuracy: 0.7393\n",
            "Epoch 7/30\n",
            "50/50 [==============================] - 0s 4ms/step - loss: 0.5950 - accuracy: 0.8117 - val_loss: 0.6052 - val_accuracy: 0.7619\n",
            "Epoch 8/30\n",
            "50/50 [==============================] - 0s 3ms/step - loss: 0.5570 - accuracy: 0.8255 - val_loss: 0.5826 - val_accuracy: 0.7293\n",
            "Epoch 9/30\n",
            "50/50 [==============================] - 0s 3ms/step - loss: 0.5174 - accuracy: 0.8387 - val_loss: 0.5559 - val_accuracy: 0.7644\n",
            "Epoch 10/30\n",
            "50/50 [==============================] - 0s 4ms/step - loss: 0.4807 - accuracy: 0.8462 - val_loss: 0.5361 - val_accuracy: 0.7644\n",
            "Epoch 11/30\n",
            "50/50 [==============================] - 0s 4ms/step - loss: 0.4448 - accuracy: 0.8588 - val_loss: 0.5189 - val_accuracy: 0.7644\n",
            "Epoch 12/30\n",
            "50/50 [==============================] - 0s 4ms/step - loss: 0.4134 - accuracy: 0.8638 - val_loss: 0.5076 - val_accuracy: 0.7669\n",
            "Epoch 13/30\n",
            "50/50 [==============================] - 0s 4ms/step - loss: 0.3832 - accuracy: 0.8763 - val_loss: 0.4979 - val_accuracy: 0.7669\n",
            "Epoch 14/30\n",
            "50/50 [==============================] - 0s 4ms/step - loss: 0.3581 - accuracy: 0.8839 - val_loss: 0.4955 - val_accuracy: 0.7644\n",
            "Epoch 15/30\n",
            "50/50 [==============================] - 0s 3ms/step - loss: 0.3356 - accuracy: 0.8883 - val_loss: 0.4904 - val_accuracy: 0.7619\n",
            "Epoch 16/30\n",
            "50/50 [==============================] - 0s 3ms/step - loss: 0.3159 - accuracy: 0.8864 - val_loss: 0.4880 - val_accuracy: 0.7694\n",
            "Epoch 17/30\n",
            "50/50 [==============================] - 0s 3ms/step - loss: 0.3004 - accuracy: 0.8964 - val_loss: 0.4899 - val_accuracy: 0.7719\n",
            "Epoch 18/30\n",
            "50/50 [==============================] - 0s 4ms/step - loss: 0.2833 - accuracy: 0.9027 - val_loss: 0.4941 - val_accuracy: 0.7794\n",
            "Epoch 19/30\n",
            "50/50 [==============================] - 0s 3ms/step - loss: 0.2693 - accuracy: 0.9096 - val_loss: 0.4957 - val_accuracy: 0.7794\n",
            "Epoch 20/30\n",
            "50/50 [==============================] - 0s 3ms/step - loss: 0.2579 - accuracy: 0.9153 - val_loss: 0.5015 - val_accuracy: 0.7794\n",
            "Epoch 21/30\n",
            "50/50 [==============================] - 0s 3ms/step - loss: 0.2443 - accuracy: 0.9184 - val_loss: 0.5109 - val_accuracy: 0.7744\n",
            "Epoch 22/30\n",
            "50/50 [==============================] - 0s 3ms/step - loss: 0.2364 - accuracy: 0.9171 - val_loss: 0.5092 - val_accuracy: 0.7870\n",
            "Epoch 23/30\n",
            "50/50 [==============================] - 0s 3ms/step - loss: 0.2243 - accuracy: 0.9266 - val_loss: 0.5174 - val_accuracy: 0.7820\n",
            "Epoch 24/30\n",
            "50/50 [==============================] - 0s 3ms/step - loss: 0.2150 - accuracy: 0.9297 - val_loss: 0.5243 - val_accuracy: 0.7845\n",
            "Epoch 25/30\n",
            "50/50 [==============================] - 0s 3ms/step - loss: 0.2051 - accuracy: 0.9328 - val_loss: 0.5353 - val_accuracy: 0.7794\n",
            "Epoch 26/30\n",
            "50/50 [==============================] - 0s 3ms/step - loss: 0.1995 - accuracy: 0.9360 - val_loss: 0.5392 - val_accuracy: 0.7845\n",
            "Epoch 27/30\n",
            "50/50 [==============================] - 0s 3ms/step - loss: 0.1933 - accuracy: 0.9397 - val_loss: 0.5566 - val_accuracy: 0.7694\n",
            "Epoch 28/30\n",
            "50/50 [==============================] - 0s 3ms/step - loss: 0.1844 - accuracy: 0.9460 - val_loss: 0.5527 - val_accuracy: 0.7794\n",
            "Epoch 29/30\n",
            "50/50 [==============================] - 0s 3ms/step - loss: 0.1780 - accuracy: 0.9454 - val_loss: 0.5614 - val_accuracy: 0.7820\n",
            "Epoch 30/30\n",
            "50/50 [==============================] - 0s 3ms/step - loss: 0.1699 - accuracy: 0.9498 - val_loss: 0.5737 - val_accuracy: 0.7769\n"
          ],
          "name": "stdout"
        }
      ]
    },
    {
      "cell_type": "markdown",
      "metadata": {
        "id": "2L_CcUf-_klO"
      },
      "source": [
        "## Plot the accuracy and loss"
      ]
    },
    {
      "cell_type": "code",
      "metadata": {
        "id": "LbrdvUCu_cLZ",
        "outputId": "ec836626-6f6e-49a5-e788-c2413abf6522",
        "colab": {
          "base_uri": "https://localhost:8080/",
          "height": 541
        }
      },
      "source": [
        "import matplotlib.pyplot as plt\n",
        "\n",
        "\n",
        "def plot_graphs(history, string):\n",
        "  plt.plot(history.history[string])\n",
        "  plt.plot(history.history['val_'+string])\n",
        "  plt.xlabel(\"Epochs\")\n",
        "  plt.ylabel(string)\n",
        "  plt.legend([string, 'val_'+string])\n",
        "  plt.show()\n",
        "  \n",
        "plot_graphs(history, \"accuracy\")\n",
        "plot_graphs(history, \"loss\")"
      ],
      "execution_count": null,
      "outputs": [
        {
          "output_type": "display_data",
          "data": {
            "image/png": "[encoded data removed]",
            "text/plain": [
              "<Figure size 432x288 with 1 Axes>"
            ]
          },
          "metadata": {
            "tags": [],
            "needs_background": "light"
          }
        },
        {
          "output_type": "display_data",
          "data": {
            "image/png": "[encoded data removed]",
            "text/plain": [
              "<Figure size 432x288 with 1 Axes>"
            ]
          },
          "metadata": {
            "tags": [],
            "needs_background": "light"
          }
        }
      ]
    },
    {
      "cell_type": "markdown",
      "metadata": {
        "id": "tiw9G0K2EKQZ"
      },
      "source": [
        "## Define a function to predict the sentiment of reviews\n",
        "We'll be creating models with some differences and will use each model to predict the sentiment of some new reviews.\n",
        "\n",
        "To save time, create a function that will take in a model and some new reviews, and print out the sentiment of each reviews.\n",
        "\n",
        "The higher the sentiment value is to 1, the more positive the review is."
      ]
    },
    {
      "cell_type": "code",
      "metadata": {
        "id": "NdLBwnJN_oBv"
      },
      "source": [
        "# Define a function to take a series of reviews\n",
        "# and predict whether each one is a positive or negative review\n",
        "\n",
        "# max_length = 100 # previously defined\n",
        "\n",
        "def predict_review(model, new_sentences, maxlen=max_length, show_padded_sequence=True ):\n",
        "  # Keep the original sentences so that we can keep using them later\n",
        "  # Create an array to hold the encoded sequences\n",
        "  new_sequences = []\n",
        "\n",
        "  # Convert the new reviews to sequences\n",
        "  for i, frvw in enumerate(new_sentences):\n",
        "    new_sequences.append(tokenizer.encode(frvw))\n",
        "\n",
        "  trunc_type='post' \n",
        "  padding_type='post'\n",
        "\n",
        "  # Pad all sequences for the new reviews\n",
        "  new_reviews_padded = pad_sequences(new_sequences, maxlen=max_length, \n",
        "                                 padding=padding_type, truncating=trunc_type)             \n",
        "\n",
        "  classes = model.predict(new_reviews_padded)\n",
        "\n",
        "  # The closer the class is to 1, the more positive the review is\n",
        "  for x in range(len(new_sentences)):\n",
        "    \n",
        "    # We can see the padded sequence if desired\n",
        "    # Print the sequence\n",
        "    if (show_padded_sequence):\n",
        "      print(new_reviews_padded[x])\n",
        "    # Print the review as text\n",
        "    print(new_sentences[x])\n",
        "    # Print its predicted class\n",
        "    print(classes[x])\n",
        "    print(\"\\n\")"
      ],
      "execution_count": null,
      "outputs": []
    },
    {
      "cell_type": "code",
      "metadata": {
        "id": "jPw4LpPNEr_K",
        "outputId": "9a2ed67a-0ad4-400c-e11b-765bbd00b102",
        "colab": {
          "base_uri": "https://localhost:8080/",
          "height": 850
        }
      },
      "source": [
        "# Use the model to predict some reviews   \n",
        "fake_reviews = [\"I love this phone\", \n",
        "                \"Everything was cold\",\n",
        "                \"Everything was hot exactly as I wanted\", \n",
        "                \"Everything was green\", \n",
        "                \"the host seated us immediately\",\n",
        "                \"they gave us free chocolate cake\", \n",
        "                \"we couldn't hear each other talk because of the shouting in the kitchen\"\n",
        "              ]\n",
        "\n",
        "predict_review(model, fake_reviews)\n"
      ],
      "execution_count": null,
      "outputs": [
        {
          "output_type": "stream",
          "text": [
            "[  4 281  16  25   0   0   0   0   0   0   0   0   0   0   0   0   0   0\n",
            "   0   0   0   0   0   0   0   0   0   0   0   0   0   0   0   0   0   0\n",
            "   0   0   0   0   0   0   0   0   0   0   0   0   0   0]\n",
            "I love this phone\n",
            "[0.8770169]\n",
            "\n",
            "\n",
            "[812 227 864 100 775   9 525 843   0   0   0   0   0   0   0   0   0   0\n",
            "   0   0   0   0   0   0   0   0   0   0   0   0   0   0   0   0   0   0\n",
            "   0   0   0   0   0   0   0   0   0   0   0   0   0   0]\n",
            "Everything was cold\n",
            "[0.0900024]\n",
            "\n",
            "\n",
            "[812 227 864 100 775   9 109   8 333 731  24  61   4 171  59  77   0   0\n",
            "   0   0   0   0   0   0   0   0   0   0   0   0   0   0   0   0   0   0\n",
            "   0   0   0   0   0   0   0   0   0   0   0   0   0   0]\n",
            "Everything was hot exactly as I wanted\n",
            "[0.24458337]\n",
            "\n",
            "\n",
            "[812 227 864 100 775   9 157 359 853   0   0   0   0   0   0   0   0   0\n",
            "   0   0   0   0   0   0   0   0   0   0   0   0   0   0   0   0   0   0\n",
            "   0   0   0   0   0   0   0   0   0   0   0   0   0   0]\n",
            "Everything was green\n",
            "[0.07709263]\n",
            "\n",
            "\n",
            "[  1 109 228 540 237 635 241 423 340  89 298   0   0   0   0   0   0   0\n",
            "   0   0   0   0   0   0   0   0   0   0   0   0   0   0   0   0   0   0\n",
            "   0   0   0   0   0   0   0   0   0   0   0   0   0   0]\n",
            "the host seated us immediately\n",
            "[0.41770265]\n",
            "\n",
            "\n",
            "[154 242  47 635 341  12 569 547 147 319 775 125  85   0   0   0   0   0\n",
            "   0   0   0   0   0   0   0   0   0   0   0   0   0   0   0   0   0   0\n",
            "   0   0   0   0   0   0   0   0   0   0   0   0   0   0]\n",
            "they gave us free chocolate cake\n",
            "[0.67449737]\n",
            "\n",
            "\n",
            "[158 190 853 782   8 607 775 210 232 146 775 470  67 305 101  15   1 328\n",
            " 296  26  19   1 661 641 195   0   0   0   0   0   0   0   0   0   0   0\n",
            "   0   0   0   0   0   0   0   0   0   0   0   0   0   0]\n",
            "we couldn't hear each other talk because of the shouting in the kitchen\n",
            "[0.01756088]\n",
            "\n",
            "\n"
          ],
          "name": "stdout"
        }
      ]
    },
    {
      "cell_type": "markdown",
      "metadata": {
        "id": "Zn373-l1LFpx"
      },
      "source": [
        "## Define a function to train and show the results of models with different layers\n",
        "In the rest of this colab, we will define models, and then see the results.\n",
        "\n",
        "Define a function that will take the model, compile it, train it, graph the accuracy and loss, and then predict some results.\n",
        "\n"
      ]
    },
    {
      "cell_type": "code",
      "metadata": {
        "id": "r5Jxmnc8Et7-"
      },
      "source": [
        "def fit_model_now(model,sentence):\n",
        "  model.compile(loss='binary_crossentropy',optimizer='adam',metrics=['accuracy'])\n",
        "  model.summary()\n",
        "  history = model.fit(training_sequences, training_labels_final, epochs=num_epochs, \n",
        "                      validation_data=(testing_sequences, testing_labels_final))\n",
        "  return history\n",
        "\n",
        "def plot_results(history):\n",
        "  plot_graphs(history,\"accuracy\")\n",
        "  plot_graphs(history,\"loss\")\n",
        "\n",
        "def fit_model_and_show_results(model,sentences):\n",
        "  history = fit_model_now(model,sentence)\n",
        "  plot_results(history)\n",
        "  predict_review(model,sentences)"
      ],
      "execution_count": null,
      "outputs": []
    },
    {
      "cell_type": "markdown",
      "metadata": {
        "id": "m5XYz93zMPrm"
      },
      "source": [
        "## Add a bidirectional LSTM\n",
        "Create a new model that uses a bidirectional LSTM.\n",
        "\n",
        "Then use the function we have already defined to compile the model, train it, graph the accuracy and loss, then predict some results.\n",
        "\n"
      ]
    },
    {
      "cell_type": "code",
      "metadata": {
        "id": "v_fm7OcIMO5N",
        "outputId": "6264d56c-fd9f-4ec0-d1ac-9a0e1cf77a68",
        "colab": {
          "base_uri": "https://localhost:8080/",
          "height": 1000
        }
      },
      "source": [
        "# Define the model\n",
        "model_bidi_lstm = tf.keras.Sequential([\n",
        "                    tf.keras.layers.Embedding(vocab_size, embedding_dim, input_length=max_length),\n",
        "                    tf.keras.layers.Bidirectional(tf.keras.layers.LSTM(embedding_dim)),\n",
        "                    tf.keras.layers.Dense(6, activation='relu'),\n",
        "                    tf.keras.layers.Dense(1, activation='sigmoid')\n",
        "])\n",
        "\n",
        "# Compile and train the model and then show the predictions for our extra sentences\n",
        "fit_model_and_show_results(model_bidi_lstm, fake_reviews)\n"
      ],
      "execution_count": null,
      "outputs": [
        {
          "output_type": "stream",
          "text": [
            "Model: \"sequential_1\"\n",
            "_________________________________________________________________\n",
            "Layer (type)                 Output Shape              Param #   \n",
            "=================================================================\n",
            "embedding_1 (Embedding)      (None, 50, 16)            16000     \n",
            "_________________________________________________________________\n",
            "bidirectional (Bidirectional (None, 32)                4224      \n",
            "_________________________________________________________________\n",
            "dense_2 (Dense)              (None, 6)                 198       \n",
            "_________________________________________________________________\n",
            "dense_3 (Dense)              (None, 1)                 7         \n",
            "=================================================================\n",
            "Total params: 20,429\n",
            "Trainable params: 20,429\n",
            "Non-trainable params: 0\n",
            "_________________________________________________________________\n",
            "Epoch 1/30\n",
            "50/50 [==============================] - 1s 21ms/step - loss: 0.6919 - accuracy: 0.5330 - val_loss: 0.6891 - val_accuracy: 0.6667\n",
            "Epoch 2/30\n",
            "50/50 [==============================] - 0s 9ms/step - loss: 0.6630 - accuracy: 0.6830 - val_loss: 0.6312 - val_accuracy: 0.6867\n",
            "Epoch 3/30\n",
            "50/50 [==============================] - 0s 9ms/step - loss: 0.5312 - accuracy: 0.7809 - val_loss: 0.5278 - val_accuracy: 0.7544\n",
            "Epoch 4/30\n",
            "50/50 [==============================] - 0s 9ms/step - loss: 0.3898 - accuracy: 0.8506 - val_loss: 0.5252 - val_accuracy: 0.7469\n",
            "Epoch 5/30\n",
            "50/50 [==============================] - 0s 9ms/step - loss: 0.2971 - accuracy: 0.8933 - val_loss: 0.5471 - val_accuracy: 0.7569\n",
            "Epoch 6/30\n",
            "50/50 [==============================] - 0s 9ms/step - loss: 0.2413 - accuracy: 0.9090 - val_loss: 0.5429 - val_accuracy: 0.7719\n",
            "Epoch 7/30\n",
            "50/50 [==============================] - 0s 9ms/step - loss: 0.1978 - accuracy: 0.9372 - val_loss: 0.8059 - val_accuracy: 0.7393\n",
            "Epoch 8/30\n",
            "50/50 [==============================] - 0s 9ms/step - loss: 0.1695 - accuracy: 0.9397 - val_loss: 0.7009 - val_accuracy: 0.7318\n",
            "Epoch 9/30\n",
            "50/50 [==============================] - 1s 10ms/step - loss: 0.1399 - accuracy: 0.9561 - val_loss: 0.8373 - val_accuracy: 0.7268\n",
            "Epoch 10/30\n",
            "50/50 [==============================] - 0s 10ms/step - loss: 0.1139 - accuracy: 0.9699 - val_loss: 0.8665 - val_accuracy: 0.7243\n",
            "Epoch 11/30\n",
            "50/50 [==============================] - 0s 10ms/step - loss: 0.1034 - accuracy: 0.9780 - val_loss: 0.9148 - val_accuracy: 0.7469\n",
            "Epoch 12/30\n",
            "50/50 [==============================] - 0s 9ms/step - loss: 0.1194 - accuracy: 0.9674 - val_loss: 1.0017 - val_accuracy: 0.7268\n",
            "Epoch 13/30\n",
            "50/50 [==============================] - 0s 10ms/step - loss: 0.0950 - accuracy: 0.9774 - val_loss: 1.0560 - val_accuracy: 0.7343\n",
            "Epoch 14/30\n",
            "50/50 [==============================] - 1s 11ms/step - loss: 0.0851 - accuracy: 0.9812 - val_loss: 1.0389 - val_accuracy: 0.7444\n",
            "Epoch 15/30\n",
            "50/50 [==============================] - 1s 10ms/step - loss: 0.0665 - accuracy: 0.9856 - val_loss: 1.0077 - val_accuracy: 0.7469\n",
            "Epoch 16/30\n",
            "50/50 [==============================] - 1s 11ms/step - loss: 0.0546 - accuracy: 0.9887 - val_loss: 1.1578 - val_accuracy: 0.7318\n",
            "Epoch 17/30\n",
            "50/50 [==============================] - 0s 10ms/step - loss: 0.0394 - accuracy: 0.9950 - val_loss: 1.2056 - val_accuracy: 0.7343\n",
            "Epoch 18/30\n",
            "50/50 [==============================] - 0s 9ms/step - loss: 0.0338 - accuracy: 0.9950 - val_loss: 1.1821 - val_accuracy: 0.7494\n",
            "Epoch 19/30\n",
            "50/50 [==============================] - 0s 10ms/step - loss: 0.0308 - accuracy: 0.9956 - val_loss: 1.2999 - val_accuracy: 0.7318\n",
            "Epoch 20/30\n",
            "50/50 [==============================] - 0s 9ms/step - loss: 0.0273 - accuracy: 0.9956 - val_loss: 1.3650 - val_accuracy: 0.7343\n",
            "Epoch 21/30\n",
            "50/50 [==============================] - 0s 9ms/step - loss: 0.0239 - accuracy: 0.9962 - val_loss: 1.3304 - val_accuracy: 0.7368\n",
            "Epoch 22/30\n",
            "50/50 [==============================] - 0s 9ms/step - loss: 0.0205 - accuracy: 0.9969 - val_loss: 1.3679 - val_accuracy: 0.7419\n",
            "Epoch 23/30\n",
            "50/50 [==============================] - 0s 9ms/step - loss: 0.0177 - accuracy: 0.9975 - val_loss: 1.4254 - val_accuracy: 0.7393\n",
            "Epoch 24/30\n",
            "50/50 [==============================] - 0s 10ms/step - loss: 0.0615 - accuracy: 0.9862 - val_loss: 1.2563 - val_accuracy: 0.7118\n",
            "Epoch 25/30\n",
            "50/50 [==============================] - 1s 10ms/step - loss: 0.2463 - accuracy: 0.9215 - val_loss: 1.0750 - val_accuracy: 0.7343\n",
            "Epoch 26/30\n",
            "50/50 [==============================] - 0s 9ms/step - loss: 0.0497 - accuracy: 0.9856 - val_loss: 1.1765 - val_accuracy: 0.7368\n",
            "Epoch 27/30\n",
            "50/50 [==============================] - 0s 10ms/step - loss: 0.0276 - accuracy: 0.9956 - val_loss: 1.2446 - val_accuracy: 0.7368\n",
            "Epoch 28/30\n",
            "50/50 [==============================] - 0s 10ms/step - loss: 0.0206 - accuracy: 0.9962 - val_loss: 1.3435 - val_accuracy: 0.7343\n",
            "Epoch 29/30\n",
            "50/50 [==============================] - 0s 10ms/step - loss: 0.0152 - accuracy: 0.9987 - val_loss: 1.3613 - val_accuracy: 0.7368\n",
            "Epoch 30/30\n",
            "50/50 [==============================] - 0s 9ms/step - loss: 0.0121 - accuracy: 0.9987 - val_loss: 1.4168 - val_accuracy: 0.7368\n"
          ],
          "name": "stdout"
        },
        {
          "output_type": "display_data",
          "data": {
            "image/png": "[encoded data removed]",
            "text/plain": [
              "<Figure size 432x288 with 1 Axes>"
            ]
          },
          "metadata": {
            "tags": [],
            "needs_background": "light"
          }
        },
        {
          "output_type": "display_data",
          "data": {
            "image/png": "[encoded data removed]",
            "text/plain": [
              "<Figure size 432x288 with 1 Axes>"
            ]
          },
          "metadata": {
            "tags": [],
            "needs_background": "light"
          }
        },
        {
          "output_type": "stream",
          "text": [
            "[  4 281  16  25   0   0   0   0   0   0   0   0   0   0   0   0   0   0\n",
            "   0   0   0   0   0   0   0   0   0   0   0   0   0   0   0   0   0   0\n",
            "   0   0   0   0   0   0   0   0   0   0   0   0   0   0]\n",
            "I love this phone\n",
            "[0.99762315]\n",
            "\n",
            "\n",
            "[812 227 864 100 775   9 525 843   0   0   0   0   0   0   0   0   0   0\n",
            "   0   0   0   0   0   0   0   0   0   0   0   0   0   0   0   0   0   0\n",
            "   0   0   0   0   0   0   0   0   0   0   0   0   0   0]\n",
            "Everything was cold\n",
            "[0.01881821]\n",
            "\n",
            "\n",
            "[812 227 864 100 775   9 109   8 333 731  24  61   4 171  59  77   0   0\n",
            "   0   0   0   0   0   0   0   0   0   0   0   0   0   0   0   0   0   0\n",
            "   0   0   0   0   0   0   0   0   0   0   0   0   0   0]\n",
            "Everything was hot exactly as I wanted\n",
            "[0.9990464]\n",
            "\n",
            "\n",
            "[812 227 864 100 775   9 157 359 853   0   0   0   0   0   0   0   0   0\n",
            "   0   0   0   0   0   0   0   0   0   0   0   0   0   0   0   0   0   0\n",
            "   0   0   0   0   0   0   0   0   0   0   0   0   0   0]\n",
            "Everything was green\n",
            "[0.17172225]\n",
            "\n",
            "\n",
            "[  1 109 228 540 237 635 241 423 340  89 298   0   0   0   0   0   0   0\n",
            "   0   0   0   0   0   0   0   0   0   0   0   0   0   0   0   0   0   0\n",
            "   0   0   0   0   0   0   0   0   0   0   0   0   0   0]\n",
            "the host seated us immediately\n",
            "[0.9976763]\n",
            "\n",
            "\n",
            "[154 242  47 635 341  12 569 547 147 319 775 125  85   0   0   0   0   0\n",
            "   0   0   0   0   0   0   0   0   0   0   0   0   0   0   0   0   0   0\n",
            "   0   0   0   0   0   0   0   0   0   0   0   0   0   0]\n",
            "they gave us free chocolate cake\n",
            "[0.99757594]\n",
            "\n",
            "\n",
            "[158 190 853 782   8 607 775 210 232 146 775 470  67 305 101  15   1 328\n",
            " 296  26  19   1 661 641 195   0   0   0   0   0   0   0   0   0   0   0\n",
            "   0   0   0   0   0   0   0   0   0   0   0   0   0   0]\n",
            "we couldn't hear each other talk because of the shouting in the kitchen\n",
            "[0.00070576]\n",
            "\n",
            "\n"
          ],
          "name": "stdout"
        }
      ]
    },
    {
      "cell_type": "markdown",
      "metadata": {
        "id": "JIwz2CeoNwfo"
      },
      "source": [
        "## Use multiple bidirectional layers\n",
        "Now let's see if we get any improvements from adding another Bidirectional LSTM layer to the model.\n",
        "\n",
        "Notice that the first Bidirectionl LSTM layer returns a sequence."
      ]
    },
    {
      "cell_type": "code",
      "metadata": {
        "id": "Gs7qvNC_NBRM",
        "outputId": "a80afcaa-28e9-4d4f-b3aa-5a52847d97c8",
        "colab": {
          "base_uri": "https://localhost:8080/",
          "height": 1000
        }
      },
      "source": [
        "model_multiple_bidi_lstm = tf.keras.Sequential([\n",
        "                                    tf.keras.layers.Embedding(vocab_size, embedding_dim,input_length=max_length),\n",
        "                                    tf.keras.layers.Bidirectional(tf.keras.layers.LSTM(embedding_dim,return_sequences='True')),\n",
        "                                    tf.keras.layers.Bidirectional(tf.keras.layers.LSTM(embedding_dim)),\n",
        "                                    tf.keras.layers.Dense(6, activation='relu'),\n",
        "                                    tf.keras.layers.Dense(1, activation='sigmoid')\n",
        "])\n",
        "\n",
        "fit_model_and_show_results(model_multiple_bidi_lstm, fake_reviews)"
      ],
      "execution_count": null,
      "outputs": [
        {
          "output_type": "stream",
          "text": [
            "Model: \"sequential_2\"\n",
            "_________________________________________________________________\n",
            "Layer (type)                 Output Shape              Param #   \n",
            "=================================================================\n",
            "embedding_2 (Embedding)      (None, 50, 16)            16000     \n",
            "_________________________________________________________________\n",
            "bidirectional_1 (Bidirection (None, 50, 32)            4224      \n",
            "_________________________________________________________________\n",
            "bidirectional_2 (Bidirection (None, 32)                6272      \n",
            "_________________________________________________________________\n",
            "dense_4 (Dense)              (None, 6)                 198       \n",
            "_________________________________________________________________\n",
            "dense_5 (Dense)              (None, 1)                 7         \n",
            "=================================================================\n",
            "Total params: 26,701\n",
            "Trainable params: 26,701\n",
            "Non-trainable params: 0\n",
            "_________________________________________________________________\n",
            "Epoch 1/30\n",
            "50/50 [==============================] - 2s 38ms/step - loss: 0.6931 - accuracy: 0.5129 - val_loss: 0.6940 - val_accuracy: 0.4110\n",
            "Epoch 2/30\n",
            "50/50 [==============================] - 1s 16ms/step - loss: 0.6928 - accuracy: 0.5223 - val_loss: 0.6949 - val_accuracy: 0.4110\n",
            "Epoch 3/30\n",
            "50/50 [==============================] - 1s 15ms/step - loss: 0.6927 - accuracy: 0.5223 - val_loss: 0.6962 - val_accuracy: 0.4110\n",
            "Epoch 4/30\n",
            "50/50 [==============================] - 1s 16ms/step - loss: 0.6925 - accuracy: 0.5223 - val_loss: 0.6968 - val_accuracy: 0.4110\n",
            "Epoch 5/30\n",
            "50/50 [==============================] - 1s 15ms/step - loss: 0.6924 - accuracy: 0.5223 - val_loss: 0.6977 - val_accuracy: 0.4110\n",
            "Epoch 6/30\n",
            "50/50 [==============================] - 1s 15ms/step - loss: 0.6924 - accuracy: 0.5223 - val_loss: 0.6984 - val_accuracy: 0.4110\n",
            "Epoch 7/30\n",
            "50/50 [==============================] - 1s 15ms/step - loss: 0.6923 - accuracy: 0.5223 - val_loss: 0.6988 - val_accuracy: 0.4110\n",
            "Epoch 8/30\n",
            "50/50 [==============================] - 1s 17ms/step - loss: 0.6923 - accuracy: 0.5223 - val_loss: 0.6991 - val_accuracy: 0.4110\n",
            "Epoch 9/30\n",
            "50/50 [==============================] - 1s 15ms/step - loss: 0.6923 - accuracy: 0.5223 - val_loss: 0.6995 - val_accuracy: 0.4110\n",
            "Epoch 10/30\n",
            "50/50 [==============================] - 1s 16ms/step - loss: 0.6922 - accuracy: 0.5223 - val_loss: 0.6998 - val_accuracy: 0.4110\n",
            "Epoch 11/30\n",
            "50/50 [==============================] - 1s 15ms/step - loss: 0.6923 - accuracy: 0.5223 - val_loss: 0.7005 - val_accuracy: 0.4110\n",
            "Epoch 12/30\n",
            "50/50 [==============================] - 1s 16ms/step - loss: 0.6922 - accuracy: 0.5223 - val_loss: 0.7006 - val_accuracy: 0.4110\n",
            "Epoch 13/30\n",
            "50/50 [==============================] - 1s 15ms/step - loss: 0.6922 - accuracy: 0.5223 - val_loss: 0.7005 - val_accuracy: 0.4110\n",
            "Epoch 14/30\n",
            "50/50 [==============================] - 1s 15ms/step - loss: 0.6922 - accuracy: 0.5223 - val_loss: 0.7005 - val_accuracy: 0.4110\n",
            "Epoch 15/30\n",
            "50/50 [==============================] - 1s 15ms/step - loss: 0.6922 - accuracy: 0.5223 - val_loss: 0.7012 - val_accuracy: 0.4110\n",
            "Epoch 16/30\n",
            "50/50 [==============================] - 1s 15ms/step - loss: 0.6922 - accuracy: 0.5223 - val_loss: 0.7012 - val_accuracy: 0.4110\n",
            "Epoch 17/30\n",
            "50/50 [==============================] - 1s 15ms/step - loss: 0.6922 - accuracy: 0.5223 - val_loss: 0.7012 - val_accuracy: 0.4110\n",
            "Epoch 18/30\n",
            "50/50 [==============================] - 1s 15ms/step - loss: 0.6922 - accuracy: 0.5223 - val_loss: 0.7017 - val_accuracy: 0.4110\n",
            "Epoch 19/30\n",
            "50/50 [==============================] - 1s 15ms/step - loss: 0.6922 - accuracy: 0.5223 - val_loss: 0.7015 - val_accuracy: 0.4110\n",
            "Epoch 20/30\n",
            "50/50 [==============================] - 1s 15ms/step - loss: 0.6922 - accuracy: 0.5223 - val_loss: 0.7014 - val_accuracy: 0.4110\n",
            "Epoch 21/30\n",
            "50/50 [==============================] - 1s 16ms/step - loss: 0.6922 - accuracy: 0.5223 - val_loss: 0.7014 - val_accuracy: 0.4110\n",
            "Epoch 22/30\n",
            "50/50 [==============================] - 1s 15ms/step - loss: 0.6922 - accuracy: 0.5223 - val_loss: 0.7017 - val_accuracy: 0.4110\n",
            "Epoch 23/30\n",
            "50/50 [==============================] - 1s 17ms/step - loss: 0.6922 - accuracy: 0.5223 - val_loss: 0.7020 - val_accuracy: 0.4110\n",
            "Epoch 24/30\n",
            "50/50 [==============================] - 1s 15ms/step - loss: 0.6922 - accuracy: 0.5223 - val_loss: 0.7017 - val_accuracy: 0.4110\n",
            "Epoch 25/30\n",
            "50/50 [==============================] - 1s 16ms/step - loss: 0.6922 - accuracy: 0.5223 - val_loss: 0.7021 - val_accuracy: 0.4110\n",
            "Epoch 26/30\n",
            "50/50 [==============================] - 1s 15ms/step - loss: 0.6922 - accuracy: 0.5223 - val_loss: 0.7019 - val_accuracy: 0.4110\n",
            "Epoch 27/30\n",
            "50/50 [==============================] - 1s 16ms/step - loss: 0.6922 - accuracy: 0.5223 - val_loss: 0.7020 - val_accuracy: 0.4110\n",
            "Epoch 28/30\n",
            "50/50 [==============================] - 1s 15ms/step - loss: 0.6922 - accuracy: 0.5223 - val_loss: 0.7022 - val_accuracy: 0.4110\n",
            "Epoch 29/30\n",
            "50/50 [==============================] - 1s 16ms/step - loss: 0.6922 - accuracy: 0.5223 - val_loss: 0.7017 - val_accuracy: 0.4110\n",
            "Epoch 30/30\n",
            "50/50 [==============================] - 1s 15ms/step - loss: 0.6922 - accuracy: 0.5223 - val_loss: 0.7023 - val_accuracy: 0.4110\n"
          ],
          "name": "stdout"
        },
        {
          "output_type": "display_data",
          "data": {
            "image/png": "[encoded data removed]",
            "text/plain": [
              "<Figure size 432x288 with 1 Axes>"
            ]
          },
          "metadata": {
            "tags": [],
            "needs_background": "light"
          }
        },
        {
          "output_type": "display_data",
          "data": {
            "image/png": "[encoded data removed]",
            "text/plain": [
              "<Figure size 432x288 with 1 Axes>"
            ]
          },
          "metadata": {
            "tags": [],
            "needs_background": "light"
          }
        },
        {
          "output_type": "stream",
          "text": [
            "[  4 281  16  25   0   0   0   0   0   0   0   0   0   0   0   0   0   0\n",
            "   0   0   0   0   0   0   0   0   0   0   0   0   0   0   0   0   0   0\n",
            "   0   0   0   0   0   0   0   0   0   0   0   0   0   0]\n",
            "I love this phone\n",
            "[0.52273256]\n",
            "\n",
            "\n",
            "[812 227 864 100 775   9 525 843   0   0   0   0   0   0   0   0   0   0\n",
            "   0   0   0   0   0   0   0   0   0   0   0   0   0   0   0   0   0   0\n",
            "   0   0   0   0   0   0   0   0   0   0   0   0   0   0]\n",
            "Everything was cold\n",
            "[0.52273256]\n",
            "\n",
            "\n",
            "[812 227 864 100 775   9 109   8 333 731  24  61   4 171  59  77   0   0\n",
            "   0   0   0   0   0   0   0   0   0   0   0   0   0   0   0   0   0   0\n",
            "   0   0   0   0   0   0   0   0   0   0   0   0   0   0]\n",
            "Everything was hot exactly as I wanted\n",
            "[0.52273256]\n",
            "\n",
            "\n",
            "[812 227 864 100 775   9 157 359 853   0   0   0   0   0   0   0   0   0\n",
            "   0   0   0   0   0   0   0   0   0   0   0   0   0   0   0   0   0   0\n",
            "   0   0   0   0   0   0   0   0   0   0   0   0   0   0]\n",
            "Everything was green\n",
            "[0.52273256]\n",
            "\n",
            "\n",
            "[  1 109 228 540 237 635 241 423 340  89 298   0   0   0   0   0   0   0\n",
            "   0   0   0   0   0   0   0   0   0   0   0   0   0   0   0   0   0   0\n",
            "   0   0   0   0   0   0   0   0   0   0   0   0   0   0]\n",
            "the host seated us immediately\n",
            "[0.52273256]\n",
            "\n",
            "\n",
            "[154 242  47 635 341  12 569 547 147 319 775 125  85   0   0   0   0   0\n",
            "   0   0   0   0   0   0   0   0   0   0   0   0   0   0   0   0   0   0\n",
            "   0   0   0   0   0   0   0   0   0   0   0   0   0   0]\n",
            "they gave us free chocolate cake\n",
            "[0.52273256]\n",
            "\n",
            "\n",
            "[158 190 853 782   8 607 775 210 232 146 775 470  67 305 101  15   1 328\n",
            " 296  26  19   1 661 641 195   0   0   0   0   0   0   0   0   0   0   0\n",
            "   0   0   0   0   0   0   0   0   0   0   0   0   0   0]\n",
            "we couldn't hear each other talk because of the shouting in the kitchen\n",
            "[0.52273256]\n",
            "\n",
            "\n"
          ],
          "name": "stdout"
        }
      ]
    },
    {
      "cell_type": "markdown",
      "metadata": {
        "id": "GLxMAXrrQJ8X"
      },
      "source": [
        "# Compare predictions for all the models\n",
        "\n",
        "It can be hard to see which model gives a better prediction for different reviews when you examine each model separately. So for comparison purposes, here we define some more reviews and print out the predictions that each of the three models gives for each review:\n",
        "\n",
        "*   Embeddings and a Global Average Pooling layer\n",
        "*   Embeddings and a Bidirectional LSTM layer\n",
        "*   Embeddings and two Bidirectional LSTM layers\n",
        "\n",
        "The results are not always what you might expect. The input dataset is fairly small, it has less than 2000 reviews. Some of the reviews are fairly short, and some of the short ones are fairly repetitive which reduces their impact on improving the  model, such as these two reviews:\n",
        "\n",
        "*   Bad Quality.\n",
        "*   Low Quality.\n",
        "\n",
        "Feel free to add more reviews of your own, or change the reviews. The results will depend on the combination of words in the reviews, and how well they match to reviews in the training set. \n",
        "\n",
        "How do the different models handle things like \"wasn't good\" which contains a positive word (good) but is a poor review?\n"
      ]
    },
    {
      "cell_type": "code",
      "metadata": {
        "id": "seZJm7DpRIIq"
      },
      "source": [
        "my_reviews =[\"lovely\", \"dreadful\", \"stay away\",\n",
        "             \"everything was hot exactly as I wanted\",\n",
        "             \"everything was not exactly as I wanted\",\n",
        "             \"they gave us free chocolate cake\",\n",
        "             \"I've never eaten anything so spicy in my life, my throat burned for hours\",\n",
        "             \"for a phone that is as expensive as this one I expect it to be much easier to use than this thing is\",\n",
        "             \"we left there very full for a low price so I'd say you just can't go wrong at this place\",\n",
        "             \"that place does not have quality meals and it isn't a good place to go for dinner\",\n",
        "             \"you cannot always be right for a wrong person and right one will find your worth\"\n",
        "             ]"
      ],
      "execution_count": null,
      "outputs": []
    },
    {
      "cell_type": "code",
      "metadata": {
        "id": "NmmzR1lGOrHE",
        "outputId": "6744ee1a-dd33-414b-9d3f-debc0e9d344f",
        "colab": {
          "base_uri": "https://localhost:8080/",
          "height": 816
        }
      },
      "source": [
        "print(\"===================================\\n\",\"Embeddings only:\\n\", \"===================================\",)\n",
        "predict_review(model, my_reviews, show_padded_sequence=False)"
      ],
      "execution_count": null,
      "outputs": [
        {
          "output_type": "stream",
          "text": [
            "===================================\n",
            " Embeddings only:\n",
            " ===================================\n",
            "lovely\n",
            "[0.8904595]\n",
            "\n",
            "\n",
            "dreadful\n",
            "[0.27054015]\n",
            "\n",
            "\n",
            "stay away\n",
            "[0.5754046]\n",
            "\n",
            "\n",
            "everything was hot exactly as I wanted\n",
            "[0.6821106]\n",
            "\n",
            "\n",
            "everything was not exactly as I wanted\n",
            "[0.40439418]\n",
            "\n",
            "\n",
            "they gave us free chocolate cake\n",
            "[0.67449737]\n",
            "\n",
            "\n",
            "I've never eaten anything so spicy in my life, my throat burned for hours\n",
            "[0.02761161]\n",
            "\n",
            "\n",
            "for a phone that is as expensive as this one I expect it to be much easier to use than this thing is\n",
            "[0.43959102]\n",
            "\n",
            "\n",
            "we left there very full for a low price so I'd say you just can't go wrong at this place\n",
            "[0.8124607]\n",
            "\n",
            "\n",
            "that place does not have quality meals and it isn't a good place to go for dinner\n",
            "[0.81647277]\n",
            "\n",
            "\n",
            "you cannot always be right for a wrong person and right one will find your worth\n",
            "[0.6390922]\n",
            "\n",
            "\n"
          ],
          "name": "stdout"
        }
      ]
    },
    {
      "cell_type": "code",
      "metadata": {
        "id": "6P3bO4KvRBm9",
        "outputId": "11707777-3d6f-44f5-ebd1-388719f1bb0b",
        "colab": {
          "base_uri": "https://localhost:8080/",
          "height": 816
        }
      },
      "source": [
        "print(\"===================================\\n\", \"With a single bidirectional LSTM:\\n\", \"===================================\")\n",
        "predict_review(model_bidi_lstm, my_reviews, show_padded_sequence=False)"
      ],
      "execution_count": null,
      "outputs": [
        {
          "output_type": "stream",
          "text": [
            "===================================\n",
            " With a single bidirectional LSTM:\n",
            " ===================================\n",
            "lovely\n",
            "[0.9571382]\n",
            "\n",
            "\n",
            "dreadful\n",
            "[0.0557842]\n",
            "\n",
            "\n",
            "stay away\n",
            "[0.03836138]\n",
            "\n",
            "\n",
            "everything was hot exactly as I wanted\n",
            "[0.99925727]\n",
            "\n",
            "\n",
            "everything was not exactly as I wanted\n",
            "[0.55732054]\n",
            "\n",
            "\n",
            "they gave us free chocolate cake\n",
            "[0.99757594]\n",
            "\n",
            "\n",
            "I've never eaten anything so spicy in my life, my throat burned for hours\n",
            "[0.68161154]\n",
            "\n",
            "\n",
            "for a phone that is as expensive as this one I expect it to be much easier to use than this thing is\n",
            "[0.01458064]\n",
            "\n",
            "\n",
            "we left there very full for a low price so I'd say you just can't go wrong at this place\n",
            "[0.9999465]\n",
            "\n",
            "\n",
            "that place does not have quality meals and it isn't a good place to go for dinner\n",
            "[0.9977749]\n",
            "\n",
            "\n",
            "you cannot always be right for a wrong person and right one will find your worth\n",
            "[0.99894005]\n",
            "\n",
            "\n"
          ],
          "name": "stdout"
        }
      ]
    },
    {
      "cell_type": "code",
      "metadata": {
        "id": "yVkrW47fRVF2",
        "outputId": "afdbf381-4621-4828-8b2a-40a8a59efd74",
        "colab": {
          "base_uri": "https://localhost:8080/",
          "height": 816
        }
      },
      "source": [
        "print(\"===================================\\n\",\"With two bidirectional LSTMs:\\n\", \"===================================\")\n",
        "predict_review(model_multiple_bidi_lstm, my_reviews, show_padded_sequence=False)"
      ],
      "execution_count": null,
      "outputs": [
        {
          "output_type": "stream",
          "text": [
            "===================================\n",
            " With two bidirectional LSTMs:\n",
            " ===================================\n",
            "lovely\n",
            "[0.52273256]\n",
            "\n",
            "\n",
            "dreadful\n",
            "[0.52273256]\n",
            "\n",
            "\n",
            "stay away\n",
            "[0.52273256]\n",
            "\n",
            "\n",
            "everything was hot exactly as I wanted\n",
            "[0.52273256]\n",
            "\n",
            "\n",
            "everything was not exactly as I wanted\n",
            "[0.52273256]\n",
            "\n",
            "\n",
            "they gave us free chocolate cake\n",
            "[0.52273256]\n",
            "\n",
            "\n",
            "I've never eaten anything so spicy in my life, my throat burned for hours\n",
            "[0.52273256]\n",
            "\n",
            "\n",
            "for a phone that is as expensive as this one I expect it to be much easier to use than this thing is\n",
            "[0.52273256]\n",
            "\n",
            "\n",
            "we left there very full for a low price so I'd say you just can't go wrong at this place\n",
            "[0.52273256]\n",
            "\n",
            "\n",
            "that place does not have quality meals and it isn't a good place to go for dinner\n",
            "[0.52273256]\n",
            "\n",
            "\n",
            "you cannot always be right for a wrong person and right one will find your worth\n",
            "[0.52273256]\n",
            "\n",
            "\n"
          ],
          "name": "stdout"
        }
      ]
    },
    {
      "cell_type": "code",
      "metadata": {
        "id": "7JlfzFXsRYKI"
      },
      "source": [
        ""
      ],
      "execution_count": null,
      "outputs": []
    }
  ]
}